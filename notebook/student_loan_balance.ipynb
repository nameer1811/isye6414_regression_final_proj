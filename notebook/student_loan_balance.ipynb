{
 "cells": [
  {
   "cell_type": "markdown",
   "id": "a8c8c30a",
   "metadata": {},
   "source": [
    "## Start of our student loan balance analysis"
   ]
  },
  {
   "cell_type": "code",
   "execution_count": 11,
   "id": "4c88178e",
   "metadata": {
    "vscode": {
     "languageId": "r"
    }
   },
   "outputs": [
    {
     "name": "stderr",
     "output_type": "stream",
     "text": [
      "Warning message:\n",
      "\"packages 'janitor', 'car' are in use and will not be installed\"\n"
     ]
    }
   ],
   "source": [
    "# Install packages\n",
    "install.packages(c('janitor','car'))"
   ]
  },
  {
   "cell_type": "markdown",
   "id": "2bad8174",
   "metadata": {},
   "source": [
    "## Data Cleaning"
   ]
  },
  {
   "cell_type": "code",
   "execution_count": null,
   "id": "97613e0d",
   "metadata": {
    "vscode": {
     "languageId": "r"
    }
   },
   "outputs": [
    {
     "name": "stderr",
     "output_type": "stream",
     "text": [
      "\u001b[1m\u001b[22m`summarise()` has grouped output by 'state'. You can override using the\n",
      "`.groups` argument.\n",
      "\u001b[1m\u001b[22m`summarise()` has grouped output by 'state'. You can override using the\n",
      "`.groups` argument.\n",
      "\u001b[1m\u001b[22m`summarise()` has grouped output by 'state'. You can override using the\n",
      "`.groups` argument.\n",
      "\u001b[1m\u001b[22m`summarise()` has grouped output by 'state'. You can override using the\n",
      "`.groups` argument.\n"
     ]
    }
   ],
   "source": [
    "library(dplyr)\n",
    "library(janitor)\n",
    "library(purrr)\n",
    "library(glue)\n",
    "library(stringr)\n",
    "library(readxl)\n",
    "\n",
    "load_and_combine_data <- function(directory_path) {\n",
    "  \n",
    "  file_pattern <- glue(\".*-Data\\\\.csv$\")\n",
    "  \n",
    "  file_paths <- list.files(path = directory_path, pattern = file_pattern, full.names = TRUE)\n",
    "  \n",
    "  list_of_dfs <- map(file_paths, function(path) { \n",
    "    \n",
    "    year_match_result <- regmatches(path, regexpr(\"Y(\\\\d{4})\\\\.*\", path))\n",
    "    \n",
    "    year_extracted <- sub(\"Y(\\\\d{4})\\\\.*\", \"\\\\1\", year_match_result)\n",
    "    \n",
    "    read.csv(path, skip = 1, na.strings = c(\"N\", \"-\", \"(X)\", \"null\")) %>% \n",
    "      clean_names() %>%\n",
    "      mutate(year = as.numeric(year_extracted)) %>%\n",
    "      mutate(state = str_trim(str_extract(geographic_area_name, \",\\\\s*([^,]+)$\"), side = \"left\"),\n",
    "             state = str_replace(state, \"^,\\\\s*\", \"\")) %>%\n",
    "      select(-contains(c(\"margin_of_error\", \"ratio\", \"unit\", \"percent\", \"x\", \"geograph\")))\n",
    "      }\n",
    "    )\n",
    "  \n",
    "  common_columns <- names(list_of_dfs[[1]])\n",
    "  \n",
    "  for (i in 2:length(list_of_dfs)) {\n",
    "    common_columns <- intersect(common_columns, names(list_of_dfs[[i]]))\n",
    "  }\n",
    "  \n",
    "  list_of_dfs_common_cols <- map(list_of_dfs, ~ .x %>% select(all_of(common_columns)))\n",
    "  \n",
    "  for (col_name in common_columns) {\n",
    "    first_col_type <- class(list_of_dfs_common_cols[[1]][[col_name]])\n",
    "    \n",
    "    if (first_col_type %in% c(\"numeric\", \"integer\")) {\n",
    "      list_of_dfs_common_cols <- map(list_of_dfs_common_cols, function(df) {\n",
    "        df[[col_name]] <- as.numeric(df[[col_name]])\n",
    "        df\n",
    "      })\n",
    "    } else if (first_col_type == \"factor\") {\n",
    "      list_of_dfs_common_cols <- map(list_of_dfs_common_cols, function(df) {\n",
    "        df[[col_name]] <- as.character(df[[col_name]])\n",
    "        df\n",
    "      })\n",
    "    }\n",
    "  }\n",
    "  \n",
    "  yearly_data <- bind_rows(list_of_dfs_common_cols)\n",
    "  \n",
    "  yearly_data\n",
    "}\n",
    "\n",
    "load_and_combine_borrower_data <- function(filepath, sheet_numbers, years) {\n",
    "\n",
    "  combined_borrower_data <- map2_df(sheet_numbers, years, function(sheet, year) {\n",
    "    read_excel(filepath, sheet = sheet, skip = 7) %>%\n",
    "    clean_names() %>%\n",
    "    mutate(year = year)\n",
    "  })\n",
    "  \n",
    "  final_borrower_data <- combined_borrower_data %>%\n",
    "    select(state, year, total_borrowers, total_balance_billions)\n",
    "  \n",
    "  final_borrower_data\n",
    "}\n",
    "\n",
    "dem_data <- load_and_combine_data(\"../data/dem\") %>%\n",
    "  rename(total_population = estimate_race_total_population,\n",
    "         race_white = estimate_race_total_population_one_race_white,\n",
    "         race_black = estimate_race_total_population_one_race_black_or_african_american,\n",
    "         race_asian = estimate_race_total_population_one_race_asian,\n",
    "         race_native = estimate_race_total_population_one_race_american_indian_and_alaska_native,\n",
    "         race_pacific_islander = estimate_race_total_population_one_race_native_hawaiian_and_other_pacific_islander,\n",
    "         race_other = estimate_race_total_population_one_race_some_other_race,\n",
    "         race_two_or_more = estimate_race_total_population_two_or_more_races,\n",
    "         hispanic_or_latino = estimate_hispanic_or_latino_and_race_total_population_hispanic_or_latino_of_any_race,\n",
    "         total_18_or_over_population = estimate_citizen_voting_age_population_citizen_18_and_over_population,\n",
    "         population_18_or_over_male = estimate_citizen_voting_age_population_citizen_18_and_over_population_male,\n",
    "         population_18_or_over_female = estimate_citizen_voting_age_population_citizen_18_and_over_population_female) %>%\n",
    "  select(-contains(\"estimate\")) %>%\n",
    "  group_by(state, year) %>%\n",
    "  summarise(across(everything(), ~sum(., na.rm=TRUE))) %>%\n",
    "  ungroup() %>%\n",
    "  mutate(across(race_two_or_more:hispanic_or_latino, ~./total_population),\n",
    "         across(population_18_or_over_male:population_18_or_over_female, ~./total_18_or_over_population))\n",
    "\n",
    "economic_data <- load_and_combine_data(\"../data/economic\") %>%\n",
    "  rename(employment_total = estimate_employment_status_population_16_years_and_over,\n",
    "         employement_total_employed = estimate_employment_status_population_16_years_and_over_in_labor_force,\n",
    "         employment_total_unemployed = estimate_employment_status_population_16_years_and_over_not_in_labor_force) %>%\n",
    "  select(-contains(\"estimate\"))  %>%\n",
    "  group_by(state, year) %>%\n",
    "  summarise(across(everything(), ~sum(., na.rm=TRUE))) %>%\n",
    "  ungroup() %>%\n",
    "  mutate(across(employement_total_employed:employment_total_unemployed, ~./employment_total)) %>%\n",
    "  select(-employment_total)\n",
    "\n",
    "mean_income_data <- load_and_combine_data(\"../data/mean_income\") %>%\n",
    "  group_by(state, year) %>%\n",
    "  summarise(mean_household_income_dollars = mean(estimate_mean_income_dollars_household_income_all_households, na.rm=TRUE)) %>%\n",
    "  ungroup()\n",
    "\n",
    "social_char_data <- load_and_combine_data(\"../data/social_char\") %>%\n",
    "  rename(average_household_size = estimate_households_by_type_total_households_average_household_size,\n",
    "         total_veteran_eligible = estimate_veteran_status_civilian_population_18_years_and_over,\n",
    "         total_veteran = estimate_veteran_status_civilian_population_18_years_and_over_civilian_veterans,\n",
    "         total_population_degree = estimate_educational_attainment_population_25_years_and_over,\n",
    "         total_population_bachelors_degree = estimate_educational_attainment_population_25_years_and_over_bachelor_s_degree_or_higher,\n",
    "         total_foreign_born_pop = estimate_u_s_citizenship_status_foreign_born_population,\n",
    "         total_households = estimate_households_by_type_total_households,\n",
    "         total_household_w_internet = estimate_computers_and_internet_use_total_households_with_a_broadband_internet_subscription) %>%\n",
    "  select(-contains(\"estimate\")) %>%\n",
    "  group_by(state, year) %>%\n",
    "  summarise(across(-average_household_size, ~sum(., na.rm=TRUE)), \n",
    "            average_household_size = mean(average_household_size, na.rm=TRUE)) %>%\n",
    "  ungroup() %>%\n",
    "  mutate(total_veteran = total_veteran/total_veteran_eligible, \n",
    "         total_population_bachelors_degree = total_population_bachelors_degree/total_population_degree,\n",
    "         total_household_w_internet = total_household_w_internet/total_households) %>%\n",
    "  select(-c(total_veteran_eligible, total_population_degree, total_households))\n",
    "\n",
    "borrower_data <-load_and_combine_borrower_data(\"../data/Student-loan-update-2025-Mangrum.xlsx\", 11:15, 2019:2023)\n",
    "\n",
    "combined_data <- dem_data %>%\n",
    "  left_join(economic_data, by = c(\"state\", \"year\")) %>%\n",
    "  left_join(mean_income_data, by = c(\"state\", \"year\")) %>%\n",
    "  left_join(social_char_data, by = c(\"state\", \"year\")) %>%\n",
    "  left_join(borrower_data, by = c(\"state\", \"year\")) %>%\n",
    "  relocate(state, year) %>%\n",
    "  filter(!state == \"Puerto Rico\", !state == \"District of Columbia\") %>%\n",
    "  mutate(total_foreign_born_pop = total_foreign_born_pop/total_population,\n",
    "         total_borrowers = total_borrowers/total_18_or_over_population) %>%\n",
    "  select(-c(total_population, total_18_or_over_population))\n",
    "\n",
    "# combined_data %>%\n",
    "#   select(-state, -year) %>%\n",
    "#   gtsummary::tbl_summary()\n",
    "\n",
    "write.csv(combined_data, \"../data/combined_clean_data.csv\", row.names = FALSE)\n",
    "\n",
    "\n"
   ]
  },
  {
   "cell_type": "code",
   "execution_count": 12,
   "id": "54ec1f54",
   "metadata": {
    "vscode": {
     "languageId": "r"
    }
   },
   "outputs": [
    {
     "data": {
      "text/html": [
       "<style>\n",
       ".list-inline {list-style: none; margin:0; padding: 0}\n",
       ".list-inline>li {display: inline-block}\n",
       ".list-inline>li:not(:last-child)::after {content: \"\\00b7\"; padding: 0 .5ex}\n",
       "</style>\n",
       "<ol class=list-inline><li>'hispanic_or_latino'</li><li>'population_18_or_over_male'</li><li>'employement_total_employed'</li><li>'mean_household_income_dollars'</li><li>'total_population_bachelors_degree'</li><li>'total_veteran'</li><li>'total_foreign_born_pop'</li><li>'total_household_w_internet'</li><li>'average_household_size'</li><li>'total_borrowers'</li><li>'total_balance_billions'</li><li>'minority_share'</li></ol>\n"
      ],
      "text/latex": [
       "\\begin{enumerate*}\n",
       "\\item 'hispanic\\_or\\_latino'\n",
       "\\item 'population\\_18\\_or\\_over\\_male'\n",
       "\\item 'employement\\_total\\_employed'\n",
       "\\item 'mean\\_household\\_income\\_dollars'\n",
       "\\item 'total\\_population\\_bachelors\\_degree'\n",
       "\\item 'total\\_veteran'\n",
       "\\item 'total\\_foreign\\_born\\_pop'\n",
       "\\item 'total\\_household\\_w\\_internet'\n",
       "\\item 'average\\_household\\_size'\n",
       "\\item 'total\\_borrowers'\n",
       "\\item 'total\\_balance\\_billions'\n",
       "\\item 'minority\\_share'\n",
       "\\end{enumerate*}\n"
      ],
      "text/markdown": [
       "1. 'hispanic_or_latino'\n",
       "2. 'population_18_or_over_male'\n",
       "3. 'employement_total_employed'\n",
       "4. 'mean_household_income_dollars'\n",
       "5. 'total_population_bachelors_degree'\n",
       "6. 'total_veteran'\n",
       "7. 'total_foreign_born_pop'\n",
       "8. 'total_household_w_internet'\n",
       "9. 'average_household_size'\n",
       "10. 'total_borrowers'\n",
       "11. 'total_balance_billions'\n",
       "12. 'minority_share'\n",
       "\n",
       "\n"
      ],
      "text/plain": [
       " [1] \"hispanic_or_latino\"                \"population_18_or_over_male\"       \n",
       " [3] \"employement_total_employed\"        \"mean_household_income_dollars\"    \n",
       " [5] \"total_population_bachelors_degree\" \"total_veteran\"                    \n",
       " [7] \"total_foreign_born_pop\"            \"total_household_w_internet\"       \n",
       " [9] \"average_household_size\"            \"total_borrowers\"                  \n",
       "[11] \"total_balance_billions\"            \"minority_share\"                   "
      ]
     },
     "metadata": {},
     "output_type": "display_data"
    },
    {
     "data": {
      "text/html": [
       "<style>\n",
       ".list-inline {list-style: none; margin:0; padding: 0}\n",
       ".list-inline>li {display: inline-block}\n",
       ".list-inline>li:not(:last-child)::after {content: \"\\00b7\"; padding: 0 .5ex}\n",
       "</style>\n",
       "<ol class=list-inline><li>'hispanic_or_latino'</li><li>'population_18_or_over_male'</li><li>'employement_total_employed'</li><li>'mean_household_income_dollars'</li><li>'total_population_bachelors_degree'</li><li>'total_veteran'</li><li>'total_foreign_born_pop'</li><li>'total_household_w_internet'</li><li>'average_household_size'</li><li>'total_borrowers'</li><li>'total_balance_billions'</li><li>'minority_share'</li></ol>\n"
      ],
      "text/latex": [
       "\\begin{enumerate*}\n",
       "\\item 'hispanic\\_or\\_latino'\n",
       "\\item 'population\\_18\\_or\\_over\\_male'\n",
       "\\item 'employement\\_total\\_employed'\n",
       "\\item 'mean\\_household\\_income\\_dollars'\n",
       "\\item 'total\\_population\\_bachelors\\_degree'\n",
       "\\item 'total\\_veteran'\n",
       "\\item 'total\\_foreign\\_born\\_pop'\n",
       "\\item 'total\\_household\\_w\\_internet'\n",
       "\\item 'average\\_household\\_size'\n",
       "\\item 'total\\_borrowers'\n",
       "\\item 'total\\_balance\\_billions'\n",
       "\\item 'minority\\_share'\n",
       "\\end{enumerate*}\n"
      ],
      "text/markdown": [
       "1. 'hispanic_or_latino'\n",
       "2. 'population_18_or_over_male'\n",
       "3. 'employement_total_employed'\n",
       "4. 'mean_household_income_dollars'\n",
       "5. 'total_population_bachelors_degree'\n",
       "6. 'total_veteran'\n",
       "7. 'total_foreign_born_pop'\n",
       "8. 'total_household_w_internet'\n",
       "9. 'average_household_size'\n",
       "10. 'total_borrowers'\n",
       "11. 'total_balance_billions'\n",
       "12. 'minority_share'\n",
       "\n",
       "\n"
      ],
      "text/plain": [
       " [1] \"hispanic_or_latino\"                \"population_18_or_over_male\"       \n",
       " [3] \"employement_total_employed\"        \"mean_household_income_dollars\"    \n",
       " [5] \"total_population_bachelors_degree\" \"total_veteran\"                    \n",
       " [7] \"total_foreign_born_pop\"            \"total_household_w_internet\"       \n",
       " [9] \"average_household_size\"            \"total_borrowers\"                  \n",
       "[11] \"total_balance_billions\"            \"minority_share\"                   "
      ]
     },
     "metadata": {},
     "output_type": "display_data"
    },
    {
     "data": {
      "text/plain": [
       "\n",
       "Call:\n",
       "lm(formula = total_balance_billions ~ ., data = train_data)\n",
       "\n",
       "Residuals:\n",
       "    Min      1Q  Median      3Q     Max \n",
       "-53.569 -13.607  -1.184  10.648  69.146 \n",
       "\n",
       "Coefficients:\n",
       "                                    Estimate Std. Error t value Pr(>|t|)    \n",
       "(Intercept)                       -1.477e+02  1.092e+02  -1.352 0.177735    \n",
       "hispanic_or_latino                 3.823e+00  2.036e+01   0.188 0.851224    \n",
       "population_18_or_over_male         1.750e+02  2.607e+02   0.671 0.502828    \n",
       "employement_total_employed        -1.713e+02  7.755e+01  -2.208 0.028319 *  \n",
       "mean_household_income_dollars     -1.253e-03  1.760e-04  -7.117 1.75e-11 ***\n",
       "total_population_bachelors_degree  2.458e+01  5.544e+01   0.443 0.658001    \n",
       "total_veteran                     -5.715e+02  1.258e+02  -4.542 9.44e-06 ***\n",
       "total_foreign_born_pop             3.908e+02  4.760e+01   8.209 2.32e-14 ***\n",
       "total_household_w_internet         2.299e+02  5.929e+01   3.878 0.000141 ***\n",
       "average_household_size             1.462e+01  1.170e+01   1.249 0.212941    \n",
       "total_borrowers                    3.814e+02  1.004e+02   3.799 0.000191 ***\n",
       "minority_share                     4.377e+00  1.503e+01   0.291 0.771239    \n",
       "---\n",
       "Signif. codes:  0 '***' 0.001 '**' 0.01 '*' 0.05 '.' 0.1 ' ' 1\n",
       "\n",
       "Residual standard error: 20.54 on 208 degrees of freedom\n",
       "Multiple R-squared:  0.6466,\tAdjusted R-squared:  0.6279 \n",
       "F-statistic: 34.59 on 11 and 208 DF,  p-value: < 2.2e-16\n"
      ]
     },
     "metadata": {},
     "output_type": "display_data"
    },
    {
     "data": {
      "text/html": [
       "<style>\n",
       ".dl-inline {width: auto; margin:0; padding: 0}\n",
       ".dl-inline>dt, .dl-inline>dd {float: none; width: auto; display: inline-block}\n",
       ".dl-inline>dt::after {content: \":\\0020\"; padding-right: .5ex}\n",
       ".dl-inline>dt:not(:first-of-type) {padding-left: .5ex}\n",
       "</style><dl class=dl-inline><dt>hispanic_or_latino</dt><dd>2.43618801557972</dd><dt>population_18_or_over_male</dt><dd>4.35688813000683</dd><dt>employement_total_employed</dt><dd>3.9099490672728</dd><dt>mean_household_income_dollars</dt><dd>4.03734810893885</dd><dt>total_population_bachelors_degree</dt><dd>4.4413634475123</dd><dt>total_veteran</dt><dd>2.04124881897296</dd><dt>total_foreign_born_pop</dt><dd>4.59409514592665</dd><dt>total_household_w_internet</dt><dd>2.87277295349613</dd><dt>average_household_size</dt><dd>1.45498513899879</dd><dt>total_borrowers</dt><dd>2.73908112019933</dd><dt>minority_share</dt><dd>2.2482054385514</dd></dl>\n"
      ],
      "text/latex": [
       "\\begin{description*}\n",
       "\\item[hispanic\\textbackslash{}\\_or\\textbackslash{}\\_latino] 2.43618801557972\n",
       "\\item[population\\textbackslash{}\\_18\\textbackslash{}\\_or\\textbackslash{}\\_over\\textbackslash{}\\_male] 4.35688813000683\n",
       "\\item[employement\\textbackslash{}\\_total\\textbackslash{}\\_employed] 3.9099490672728\n",
       "\\item[mean\\textbackslash{}\\_household\\textbackslash{}\\_income\\textbackslash{}\\_dollars] 4.03734810893885\n",
       "\\item[total\\textbackslash{}\\_population\\textbackslash{}\\_bachelors\\textbackslash{}\\_degree] 4.4413634475123\n",
       "\\item[total\\textbackslash{}\\_veteran] 2.04124881897296\n",
       "\\item[total\\textbackslash{}\\_foreign\\textbackslash{}\\_born\\textbackslash{}\\_pop] 4.59409514592665\n",
       "\\item[total\\textbackslash{}\\_household\\textbackslash{}\\_w\\textbackslash{}\\_internet] 2.87277295349613\n",
       "\\item[average\\textbackslash{}\\_household\\textbackslash{}\\_size] 1.45498513899879\n",
       "\\item[total\\textbackslash{}\\_borrowers] 2.73908112019933\n",
       "\\item[minority\\textbackslash{}\\_share] 2.2482054385514\n",
       "\\end{description*}\n"
      ],
      "text/markdown": [
       "hispanic_or_latino\n",
       ":   2.43618801557972population_18_or_over_male\n",
       ":   4.35688813000683employement_total_employed\n",
       ":   3.9099490672728mean_household_income_dollars\n",
       ":   4.03734810893885total_population_bachelors_degree\n",
       ":   4.4413634475123total_veteran\n",
       ":   2.04124881897296total_foreign_born_pop\n",
       ":   4.59409514592665total_household_w_internet\n",
       ":   2.87277295349613average_household_size\n",
       ":   1.45498513899879total_borrowers\n",
       ":   2.73908112019933minority_share\n",
       ":   2.2482054385514\n",
       "\n"
      ],
      "text/plain": [
       "               hispanic_or_latino        population_18_or_over_male \n",
       "                         2.436188                          4.356888 \n",
       "       employement_total_employed     mean_household_income_dollars \n",
       "                         3.909949                          4.037348 \n",
       "total_population_bachelors_degree                     total_veteran \n",
       "                         4.441363                          2.041249 \n",
       "           total_foreign_born_pop        total_household_w_internet \n",
       "                         4.594095                          2.872773 \n",
       "           average_household_size                   total_borrowers \n",
       "                         1.454985                          2.739081 \n",
       "                   minority_share \n",
       "                         2.248205 "
      ]
     },
     "metadata": {},
     "output_type": "display_data"
    }
   ],
   "source": [
    "# Scratch work - MLR\n",
    "set.seed(123)\n",
    "library(dplyr)\n",
    "library(janitor)\n",
    "library(purrr)\n",
    "library(glue)\n",
    "library(stringr)\n",
    "library(readxl)\n",
    "library(glmnet)\n",
    "library(car)\n",
    "student_debt_data <- read.csv(\"../data/combined_clean_data.csv\")\n",
    "\n",
    "train_idx <- sample(seq_len(nrow(student_debt_data)), size = floor(0.8 * nrow(borrower_data)))\n",
    "train_data <- student_debt_data[train_idx, ]\n",
    "test_data <- student_debt_data[-train_idx, ]\n",
    "# Prep train data\n",
    "train_data <- train_data %>%\n",
    "  mutate(minority_share = 1 - race_white) %>%\n",
    "  select(-starts_with(\"race_\")) %>%\n",
    "  select(-state, -year, -population_18_or_over_female, -employment_total_unemployed)\n",
    "# Prepare test data\n",
    "test_data <- test_data %>%\n",
    "  mutate(minority_share = 1 - race_white) %>%\n",
    "  select(-starts_with(\"race_\")) %>%\n",
    "  select(-state, -year, -population_18_or_over_female, -employment_total_unemployed)\n",
    "colnames(test_data)\n",
    "colnames(train_data)\n",
    "#mlr_model <- lm(total_balance_billions ~ . -year, data = train_data)\n",
    "mlr_model <- lm(total_balance_billions ~ ., data = train_data)\n",
    "\n",
    "summary(mlr_model)\n",
    "vif(mlr_model)"
   ]
  }
 ],
 "metadata": {
  "kernelspec": {
   "display_name": "R",
   "language": "R",
   "name": "ir"
  },
  "language_info": {
   "codemirror_mode": "r",
   "file_extension": ".r",
   "mimetype": "text/x-r-source",
   "name": "R",
   "pygments_lexer": "r",
   "version": "4.3.3"
  }
 },
 "nbformat": 4,
 "nbformat_minor": 5
}
